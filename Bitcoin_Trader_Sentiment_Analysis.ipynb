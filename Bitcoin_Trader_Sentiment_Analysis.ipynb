{
  "nbformat": 4,
  "nbformat_minor": 0,
  "metadata": {
    "colab": {
      "provenance": [],
      "authorship_tag": "ABX9TyPSKosoFLXEbj0+ybpNpaEF",
      "include_colab_link": true
    },
    "kernelspec": {
      "name": "python3",
      "display_name": "Python 3"
    },
    "language_info": {
      "name": "python"
    }
  },
  "cells": [
    {
      "cell_type": "markdown",
      "metadata": {
        "id": "view-in-github",
        "colab_type": "text"
      },
      "source": [
        "<a href=\"https://colab.research.google.com/github/SriKrishnaMishra/Bitcoin-Trader-Sentiment-Analysis/blob/main/Bitcoin_Trader_Sentiment_Analysis.ipynb\" target=\"_parent\"><img src=\"https://colab.research.google.com/assets/colab-badge.svg\" alt=\"Open In Colab\"/></a>"
      ]
    },
    {
      "cell_type": "markdown",
      "source": [
        "`https://docs.google.com/document/d/1ZyM5IBD459ulv1pMM1GYQ3SmMYezrVlygRmp3RRHLCI/edit?tab=t.0`"
      ],
      "metadata": {
        "id": "8fOwuYsj65Zz"
      }
    },
    {
      "cell_type": "code",
      "execution_count": 9,
      "metadata": {
        "colab": {
          "base_uri": "https://localhost:8080/"
        },
        "id": "T9hJGWyrqrAc",
        "outputId": "abccc8dd-f250-4299-e3ba-cb92f4d75b5f"
      },
      "outputs": [
        {
          "output_type": "stream",
          "name": "stdout",
          "text": [
            "Requirement already satisfied: gdown in /usr/local/lib/python3.12/dist-packages (5.2.0)\n",
            "Requirement already satisfied: beautifulsoup4 in /usr/local/lib/python3.12/dist-packages (from gdown) (4.13.5)\n",
            "Requirement already satisfied: filelock in /usr/local/lib/python3.12/dist-packages (from gdown) (3.19.1)\n",
            "Requirement already satisfied: requests[socks] in /usr/local/lib/python3.12/dist-packages (from gdown) (2.32.4)\n",
            "Requirement already satisfied: tqdm in /usr/local/lib/python3.12/dist-packages (from gdown) (4.67.1)\n",
            "Requirement already satisfied: soupsieve>1.2 in /usr/local/lib/python3.12/dist-packages (from beautifulsoup4->gdown) (2.8)\n",
            "Requirement already satisfied: typing-extensions>=4.0.0 in /usr/local/lib/python3.12/dist-packages (from beautifulsoup4->gdown) (4.15.0)\n",
            "Requirement already satisfied: charset_normalizer<4,>=2 in /usr/local/lib/python3.12/dist-packages (from requests[socks]->gdown) (3.4.3)\n",
            "Requirement already satisfied: idna<4,>=2.5 in /usr/local/lib/python3.12/dist-packages (from requests[socks]->gdown) (3.10)\n",
            "Requirement already satisfied: urllib3<3,>=1.21.1 in /usr/local/lib/python3.12/dist-packages (from requests[socks]->gdown) (2.5.0)\n",
            "Requirement already satisfied: certifi>=2017.4.17 in /usr/local/lib/python3.12/dist-packages (from requests[socks]->gdown) (2025.8.3)\n",
            "Requirement already satisfied: PySocks!=1.5.7,>=1.5.6 in /usr/local/lib/python3.12/dist-packages (from requests[socks]->gdown) (1.7.1)\n"
          ]
        }
      ],
      "source": [
        "%pip install gdown\n",
        "import os\n",
        "import numpy as np\n",
        "import pandas as pd\n",
        "import matplotlib.pyplot as plt\n",
        "from google.colab import drive\n",
        "from scipy import stats\n",
        "from sklearn.impute import SimpleImputer\n",
        "from sklearn.pipeline import Pipeline\n",
        "from sklearn.preprocessing import StandardScaler\n",
        "from sklearn.ensemble import RandomForestClassifier, RandomForestRegressor\n",
        "from sklearn.model_selection import TimeSeriesSplit\n",
        "from sklearn.metrics import accuracy_score, precision_score, recall_score, f1_score, mean_squared_error, r2_score\n",
        "plt.rcParams['figure.figsize'] = (12, 5)"
      ]
    },
    {
      "cell_type": "code",
      "source": [
        "try:\n",
        "    import gdown\n",
        "    gdown.download(f'https://drive.google.com/uc?id={SENTIMENT_FILE_ID}', sentiment_path, quiet=False)\n",
        "    gdown.download(f'https://drive.google.com/uc?id={TRADER_FILE_ID}', trader_path, quiet=False)\n",
        "except Exception:\n",
        "    pass"
      ],
      "metadata": {
        "colab": {
          "base_uri": "https://localhost:8080/"
        },
        "id": "PVL7nCjBwiDB",
        "outputId": "cf2875f8-f71e-4af3-bed6-6dd3f846f50b"
      },
      "execution_count": 10,
      "outputs": [
        {
          "output_type": "stream",
          "name": "stderr",
          "text": [
            "Downloading...\n",
            "From: https://drive.google.com/uc?id=1IAfLZwu6rJzyWKgBToqwSmmVYU6VbjVs\n",
            "To: /content/sentiment_1IAfLZwu6rJzyWKgBToqwSmmVYU6VbjVs.csv\n",
            "100%|██████████| 47.5M/47.5M [00:00<00:00, 221MB/s]\n",
            "Downloading...\n",
            "From: https://drive.google.com/uc?id=1PgQC0tO8XN-wqkNyghWc_-mnrYv_nhSf\n",
            "To: /content/trades_1PgQC0tO8XN-wqkNyghWc_-mnrYv_nhSf.csv\n",
            "100%|██████████| 90.8k/90.8k [00:00<00:00, 60.8MB/s]\n"
          ]
        }
      ]
    },
    {
      "cell_type": "markdown",
      "source": [
        "### Simple robust reader"
      ],
      "metadata": {
        "id": "7_mt6HWWxlve"
      }
    },
    {
      "cell_type": "code",
      "source": [
        "def robust_read(path):\n",
        "    if not os.path.exists(path):\n",
        "        raise FileNotFoundError(f\"File not found: {path}. Mount Drive or upload file to Colab.\")\n",
        "    try:\n",
        "        return pd.read_csv(path, low_memory=False)\n",
        "    except Exception:\n",
        "        pass\n",
        "    try:\n",
        "        return pd.read_excel(path)\n",
        "    except Exception:\n",
        "        pass\n",
        "    try:\n",
        "        return pd.read_json(path)\n",
        "    except Exception:\n",
        "        pass\n",
        "    raise ValueError('Unsupported file format for: ' + path)"
      ],
      "metadata": {
        "id": "b2KFQcD7xQVB"
      },
      "execution_count": 12,
      "outputs": []
    },
    {
      "cell_type": "markdown",
      "source": [
        "### Load datasets"
      ],
      "metadata": {
        "id": "8qAc1gPzxfKr"
      }
    },
    {
      "cell_type": "code",
      "source": [
        "sentiment_df = robust_read(sentiment_path)\n",
        "trades_df = robust_read(trader_path)\n",
        "print('Sentiment rows,cols:', sentiment_df.shape)\n",
        "print('Trades rows,cols:', trades_df.shape)"
      ],
      "metadata": {
        "colab": {
          "base_uri": "https://localhost:8080/"
        },
        "id": "pwx5q7jlxCYI",
        "outputId": "f0ca6eba-1f6f-4c4a-99b3-aaab5682f045"
      },
      "execution_count": 13,
      "outputs": [
        {
          "output_type": "stream",
          "name": "stdout",
          "text": [
            "Sentiment rows,cols: (211224, 16)\n",
            "Trades rows,cols: (2644, 4)\n"
          ]
        }
      ]
    },
    {
      "cell_type": "markdown",
      "source": [
        "### Quick data view (head, info, describe)"
      ],
      "metadata": {
        "id": "jrjyVC-Fxp9i"
      }
    },
    {
      "cell_type": "code",
      "source": [
        "print('\\n--- Sentiment head ---')\n",
        "print(sentiment_df.head())\n",
        "print('\\n--- Sentiment info ---')\n",
        "print(sentiment_df.info())\n",
        "print('\\n--- Sentiment describe ---')\n",
        "print(sentiment_df.describe(include='all'))\n",
        "\n",
        "\n",
        "print('\\n--- Trades head ---')\n",
        "print(trades_df.head())\n",
        "print('\\n--- Trades info ---')\n",
        "print(trades_df.info())\n",
        "print('\\n--- Trades describe ---')\n",
        "print(trades_df.describe(include='all'))"
      ],
      "metadata": {
        "colab": {
          "base_uri": "https://localhost:8080/"
        },
        "id": "uVYjEuIzxpiI",
        "outputId": "13a8dd50-c5ab-450f-cf9f-23321fdc94e2"
      },
      "execution_count": 15,
      "outputs": [
        {
          "output_type": "stream",
          "name": "stdout",
          "text": [
            "\n",
            "--- Sentiment head ---\n",
            "                                      Account  Coin  Execution Price  \\\n",
            "0  0xae5eacaf9c6b9111fd53034a602c192a04e082ed  @107           7.9769   \n",
            "1  0xae5eacaf9c6b9111fd53034a602c192a04e082ed  @107           7.9800   \n",
            "2  0xae5eacaf9c6b9111fd53034a602c192a04e082ed  @107           7.9855   \n",
            "3  0xae5eacaf9c6b9111fd53034a602c192a04e082ed  @107           7.9874   \n",
            "4  0xae5eacaf9c6b9111fd53034a602c192a04e082ed  @107           7.9894   \n",
            "\n",
            "   Size Tokens  Size USD Side     Timestamp IST  Start Position Direction  \\\n",
            "0       986.87   7872.16  BUY  02-12-2024 22:50        0.000000       Buy   \n",
            "1        16.00    127.68  BUY  02-12-2024 22:50      986.524596       Buy   \n",
            "2       144.09   1150.63  BUY  02-12-2024 22:50     1002.518996       Buy   \n",
            "3       142.98   1142.04  BUY  02-12-2024 22:50     1146.558564       Buy   \n",
            "4         8.73     69.75  BUY  02-12-2024 22:50     1289.488521       Buy   \n",
            "\n",
            "   Closed PnL                                   Transaction Hash     Order ID  \\\n",
            "0         0.0  0xec09451986a1874e3a980418412fcd0201f500c95bac...  52017706630   \n",
            "1         0.0  0xec09451986a1874e3a980418412fcd0201f500c95bac...  52017706630   \n",
            "2         0.0  0xec09451986a1874e3a980418412fcd0201f500c95bac...  52017706630   \n",
            "3         0.0  0xec09451986a1874e3a980418412fcd0201f500c95bac...  52017706630   \n",
            "4         0.0  0xec09451986a1874e3a980418412fcd0201f500c95bac...  52017706630   \n",
            "\n",
            "   Crossed       Fee      Trade ID     Timestamp  \n",
            "0     True  0.345404  8.950000e+14  1.730000e+12  \n",
            "1     True  0.005600  4.430000e+14  1.730000e+12  \n",
            "2     True  0.050431  6.600000e+14  1.730000e+12  \n",
            "3     True  0.050043  1.080000e+15  1.730000e+12  \n",
            "4     True  0.003055  1.050000e+15  1.730000e+12  \n",
            "\n",
            "--- Sentiment info ---\n",
            "<class 'pandas.core.frame.DataFrame'>\n",
            "RangeIndex: 211224 entries, 0 to 211223\n",
            "Data columns (total 16 columns):\n",
            " #   Column            Non-Null Count   Dtype  \n",
            "---  ------            --------------   -----  \n",
            " 0   Account           211224 non-null  object \n",
            " 1   Coin              211224 non-null  object \n",
            " 2   Execution Price   211224 non-null  float64\n",
            " 3   Size Tokens       211224 non-null  float64\n",
            " 4   Size USD          211224 non-null  float64\n",
            " 5   Side              211224 non-null  object \n",
            " 6   Timestamp IST     211224 non-null  object \n",
            " 7   Start Position    211224 non-null  float64\n",
            " 8   Direction         211224 non-null  object \n",
            " 9   Closed PnL        211224 non-null  float64\n",
            " 10  Transaction Hash  211224 non-null  object \n",
            " 11  Order ID          211224 non-null  int64  \n",
            " 12  Crossed           211224 non-null  bool   \n",
            " 13  Fee               211224 non-null  float64\n",
            " 14  Trade ID          211224 non-null  float64\n",
            " 15  Timestamp         211224 non-null  float64\n",
            "dtypes: bool(1), float64(8), int64(1), object(6)\n",
            "memory usage: 24.4+ MB\n",
            "None\n",
            "\n",
            "--- Sentiment describe ---\n",
            "                                           Account    Coin  Execution Price  \\\n",
            "count                                       211224  211224    211224.000000   \n",
            "unique                                          32     246              NaN   \n",
            "top     0xbee1707d6b44d4d52bfe19e41f8a828645437aab    HYPE              NaN   \n",
            "freq                                         40184   68005              NaN   \n",
            "mean                                           NaN     NaN     11414.723350   \n",
            "std                                            NaN     NaN     29447.654868   \n",
            "min                                            NaN     NaN         0.000005   \n",
            "25%                                            NaN     NaN         4.854700   \n",
            "50%                                            NaN     NaN        18.280000   \n",
            "75%                                            NaN     NaN       101.580000   \n",
            "max                                            NaN     NaN    109004.000000   \n",
            "\n",
            "         Size Tokens      Size USD    Side     Timestamp IST  Start Position  \\\n",
            "count   2.112240e+05  2.112240e+05  211224            211224    2.112240e+05   \n",
            "unique           NaN           NaN       2             27977             NaN   \n",
            "top              NaN           NaN    SELL  14-02-2025 00:31             NaN   \n",
            "freq             NaN           NaN  108528               441             NaN   \n",
            "mean    4.623365e+03  5.639451e+03     NaN               NaN   -2.994625e+04   \n",
            "std     1.042729e+05  3.657514e+04     NaN               NaN    6.738074e+05   \n",
            "min     8.740000e-07  0.000000e+00     NaN               NaN   -1.433463e+07   \n",
            "25%     2.940000e+00  1.937900e+02     NaN               NaN   -3.762311e+02   \n",
            "50%     3.200000e+01  5.970450e+02     NaN               NaN    8.472793e+01   \n",
            "75%     1.879025e+02  2.058960e+03     NaN               NaN    9.337278e+03   \n",
            "max     1.582244e+07  3.921431e+06     NaN               NaN    3.050948e+07   \n",
            "\n",
            "        Direction     Closed PnL  \\\n",
            "count      211224  211224.000000   \n",
            "unique         12            NaN   \n",
            "top     Open Long            NaN   \n",
            "freq        49895            NaN   \n",
            "mean          NaN      48.749001   \n",
            "std           NaN     919.164828   \n",
            "min           NaN -117990.104100   \n",
            "25%           NaN       0.000000   \n",
            "50%           NaN       0.000000   \n",
            "75%           NaN       5.792797   \n",
            "max           NaN  135329.090100   \n",
            "\n",
            "                                         Transaction Hash      Order ID  \\\n",
            "count                                              211224  2.112240e+05   \n",
            "unique                                             101184           NaN   \n",
            "top     0x00000000000000000000000000000000000000000000...           NaN   \n",
            "freq                                                 9032           NaN   \n",
            "mean                                                  NaN  6.965388e+10   \n",
            "std                                                   NaN  1.835753e+10   \n",
            "min                                                   NaN  1.732711e+08   \n",
            "25%                                                   NaN  5.983853e+10   \n",
            "50%                                                   NaN  7.442939e+10   \n",
            "75%                                                   NaN  8.335543e+10   \n",
            "max                                                   NaN  9.014923e+10   \n",
            "\n",
            "       Crossed            Fee      Trade ID     Timestamp  \n",
            "count   211224  211224.000000  2.112240e+05  2.112240e+05  \n",
            "unique       2            NaN           NaN           NaN  \n",
            "top       True            NaN           NaN           NaN  \n",
            "freq    128403            NaN           NaN           NaN  \n",
            "mean       NaN       1.163967  5.628549e+14  1.737744e+12  \n",
            "std        NaN       6.758854  3.257565e+14  8.689920e+09  \n",
            "min        NaN      -1.175712  0.000000e+00  1.680000e+12  \n",
            "25%        NaN       0.016121  2.810000e+14  1.740000e+12  \n",
            "50%        NaN       0.089578  5.620000e+14  1.740000e+12  \n",
            "75%        NaN       0.393811  8.460000e+14  1.740000e+12  \n",
            "max        NaN     837.471593  1.130000e+15  1.750000e+12  \n",
            "\n",
            "--- Trades head ---\n",
            "    timestamp  value classification        date\n",
            "0  1517463000     30           Fear  2018-02-01\n",
            "1  1517549400     15   Extreme Fear  2018-02-02\n",
            "2  1517635800     40           Fear  2018-02-03\n",
            "3  1517722200     24   Extreme Fear  2018-02-04\n",
            "4  1517808600     11   Extreme Fear  2018-02-05\n",
            "\n",
            "--- Trades info ---\n",
            "<class 'pandas.core.frame.DataFrame'>\n",
            "RangeIndex: 2644 entries, 0 to 2643\n",
            "Data columns (total 4 columns):\n",
            " #   Column          Non-Null Count  Dtype \n",
            "---  ------          --------------  ----- \n",
            " 0   timestamp       2644 non-null   int64 \n",
            " 1   value           2644 non-null   int64 \n",
            " 2   classification  2644 non-null   object\n",
            " 3   date            2644 non-null   object\n",
            "dtypes: int64(2), object(2)\n",
            "memory usage: 82.8+ KB\n",
            "None\n",
            "\n",
            "--- Trades describe ---\n",
            "           timestamp        value classification        date\n",
            "count   2.644000e+03  2644.000000           2644        2644\n",
            "unique           NaN          NaN              5        2644\n",
            "top              NaN          NaN           Fear  2025-05-02\n",
            "freq             NaN          NaN            781           1\n",
            "mean    1.631899e+09    46.981089            NaN         NaN\n",
            "std     6.597967e+07    21.827680            NaN         NaN\n",
            "min     1.517463e+09     5.000000            NaN         NaN\n",
            "25%     1.574811e+09    28.000000            NaN         NaN\n",
            "50%     1.631900e+09    46.000000            NaN         NaN\n",
            "75%     1.688989e+09    66.000000            NaN         NaN\n",
            "max     1.746164e+09    95.000000            NaN         NaN\n"
          ]
        }
      ]
    },
    {
      "cell_type": "markdown",
      "source": [
        "### Clean column names"
      ],
      "metadata": {
        "id": "hKhUiati0YwJ"
      }
    },
    {
      "cell_type": "code",
      "source": [
        "def clean_cols(df):\n",
        "    df = df.copy()\n",
        "    df.columns = (\n",
        "        df.columns.astype(str)\n",
        "        .str.strip()\n",
        "        .str.lower()\n",
        "        .str.replace(' ', '_', regex=False)\n",
        "        .str.replace('\\n', '_', regex=False)\n",
        "        .str.replace('[^0-9a-zA-Z_]', '', regex=True)\n",
        "    )\n",
        "    return df\n",
        "\n",
        "\n",
        "sentiment_df = clean_cols(sentiment_df)\n",
        "trades_df = clean_cols(trades_df)\n",
        "print('\\nCleaned column samples:')\n",
        "print('sentiment:', sentiment_df.columns.tolist()[:20])\n",
        "print('trades:', trades_df.columns.tolist()[:30])"
      ],
      "metadata": {
        "colab": {
          "base_uri": "https://localhost:8080/"
        },
        "id": "uEc7eXmS0WnH",
        "outputId": "b4b1e1a4-a121-4536-fe88-a46a61a33e56"
      },
      "execution_count": 17,
      "outputs": [
        {
          "output_type": "stream",
          "name": "stdout",
          "text": [
            "\n",
            "Cleaned column samples:\n",
            "sentiment: ['account', 'coin', 'execution_price', 'size_tokens', 'size_usd', 'side', 'timestamp_ist', 'start_position', 'direction', 'closed_pnl', 'transaction_hash', 'order_id', 'crossed', 'fee', 'trade_id', 'timestamp']\n",
            "trades: ['timestamp', 'value', 'classification', 'date']\n"
          ]
        }
      ]
    },
    {
      "cell_type": "markdown",
      "source": [
        "### Identify key columns for sentiment and trades (simple heuristics)"
      ],
      "metadata": {
        "id": "g0siDiWX0kA3"
      }
    },
    {
      "cell_type": "code",
      "source": [
        "sent_date_candidates = [c for c in sentiment_df.columns if 'date' in c or 'time' in c]\n",
        "sent_class_candidates = [c for c in sentiment_df.columns if any(k in c for k in ['class','sentiment','fear','greed','score','value','direction','side'])]\n",
        "\n",
        "print('Sentiment date candidates:', sent_date_candidates)\n",
        "print('Sentiment class candidates:', sent_class_candidates)\n",
        "\n",
        "if not sent_date_candidates:\n",
        "    raise KeyError('No date-like column in sentiment file')\n",
        "if not sent_class_candidates:\n",
        "    raise KeyError('No class/sentiment-like column in sentiment file')\n",
        "\n",
        "sent_date_col = sent_date_candidates[0]\n",
        "sent_class_col = sent_class_candidates[0]\n",
        "\n",
        "# Trades dataset column detection\n",
        "trade_time_candidates = [c for c in trades_df.columns if any(k in c for k in ['time','timestamp','ts','date','executed_at','created_at'])]\n",
        "trade_pnl_candidates = [c for c in trades_df.columns if 'pnl' in c or 'profit' in c]\n",
        "trade_account_candidates = [c for c in trades_df.columns if 'account' in c or 'acct' in c or 'user' in c]\n",
        "trade_size_candidates = [c for c in trades_df.columns if c in ('size','qty','quantity','volume','amount') or 'size' in c]\n",
        "trade_leverage_candidates = [c for c in trades_df.columns if 'leverage' in c or 'lev' in c]\n",
        "\n",
        "print('Trade time candidates:', trade_time_candidates[:5])\n",
        "print('Trade pnl candidates:', trade_pnl_candidates[:5])\n",
        "\n",
        "if not trade_time_candidates:\n",
        "    raise KeyError('Trades file missing time-like columns. Check column names.')\n",
        "\n",
        "# Use 'value' as the PnL column if no other candidate is found\n",
        "if not trade_pnl_candidates:\n",
        "    if 'value' in trades_df.columns:\n",
        "        trade_pnl_col = 'value'\n",
        "        print(\"Using 'value' column as PnL.\")\n",
        "    else:\n",
        "        raise KeyError('Trades file missing time-like or pnl-like columns. Check column names.')\n",
        "else:\n",
        "    trade_pnl_col = trade_pnl_candidates[0]\n",
        "\n",
        "trade_time_col = trade_time_candidates[0]\n",
        "trade_account_col = trade_account_candidates[0] if trade_account_candidates else None\n",
        "trade_size_col = trade_size_candidates[0] if trade_size_candidates else None\n",
        "trade_leverage_col = trade_leverage_candidates[0] if trade_leverage_candidates else None"
      ],
      "metadata": {
        "colab": {
          "base_uri": "https://localhost:8080/"
        },
        "id": "odtm36Pt0jLG",
        "outputId": "6ac24771-dd81-41e0-aae4-4d99c19fac50"
      },
      "execution_count": 25,
      "outputs": [
        {
          "output_type": "stream",
          "name": "stdout",
          "text": [
            "Sentiment date candidates: ['timestamp_ist', 'timestamp']\n",
            "Sentiment class candidates: ['side', 'direction']\n",
            "Trade time candidates: ['timestamp', 'date']\n",
            "Trade pnl candidates: []\n",
            "Using 'value' column as PnL.\n"
          ]
        }
      ]
    },
    {
      "cell_type": "markdown",
      "source": [
        "### Parse dates and normalize sentiment values"
      ],
      "metadata": {
        "id": "A8ldHctU1HEE"
      }
    },
    {
      "cell_type": "code",
      "source": [
        "sentiment_df[sent_date_col] = pd.to_datetime(sentiment_df[sent_date_col], errors='coerce')\n",
        "sentiment_df = sentiment_df.dropna(subset=[sent_date_col])\n",
        "\n",
        "\n",
        "def scale_sentiment(v):\n",
        "    s = str(v).strip().lower()\n",
        "    # Map BUY/SELL to sentiment scores\n",
        "    if s == 'buy':\n",
        "        return 1.0\n",
        "    if s == 'sell':\n",
        "        return -1.0\n",
        "    # Keep existing mapping for fear/greed and numerical scales\n",
        "    text_map = {'extreme fear': -2, 'fear': -1, 'neutral': 0, 'greed': 1, 'extreme greed': 2}\n",
        "    if s in text_map:\n",
        "        return float(text_map[s])\n",
        "    try:\n",
        "        num = float(s)\n",
        "        if 0 <= num <= 1:\n",
        "            return (num - 0.5) * 4.0\n",
        "        if 0 <= num <= 100:\n",
        "            return (num - 50.0) / 25.0\n",
        "        return num\n",
        "    except Exception:\n",
        "        return np.nan\n",
        "\n",
        "\n",
        "sentiment_df['sentiment_score'] = sentiment_df[sent_class_col].apply(scale_sentiment)\n",
        "sentiment_df['date'] = sentiment_df[sent_date_col].dt.date\n",
        "print('\\nSentiment sample (date, score):')\n",
        "display(sentiment_df[['date','sentiment_score']].head())"
      ],
      "metadata": {
        "colab": {
          "base_uri": "https://localhost:8080/",
          "height": 241
        },
        "id": "9F_fXWPN3iMp",
        "outputId": "99f77608-234d-4ffe-8fd6-61548e3625fa"
      },
      "execution_count": 28,
      "outputs": [
        {
          "output_type": "stream",
          "name": "stdout",
          "text": [
            "\n",
            "Sentiment sample (date, score):\n"
          ]
        },
        {
          "output_type": "display_data",
          "data": {
            "text/plain": [
              "         date  sentiment_score\n",
              "0  2024-02-12              1.0\n",
              "1  2024-02-12              1.0\n",
              "2  2024-02-12              1.0\n",
              "3  2024-02-12              1.0\n",
              "4  2024-02-12              1.0"
            ],
            "text/html": [
              "\n",
              "  <div id=\"df-9ea91ae4-4913-4d88-9012-35108cc7d223\" class=\"colab-df-container\">\n",
              "    <div>\n",
              "<style scoped>\n",
              "    .dataframe tbody tr th:only-of-type {\n",
              "        vertical-align: middle;\n",
              "    }\n",
              "\n",
              "    .dataframe tbody tr th {\n",
              "        vertical-align: top;\n",
              "    }\n",
              "\n",
              "    .dataframe thead th {\n",
              "        text-align: right;\n",
              "    }\n",
              "</style>\n",
              "<table border=\"1\" class=\"dataframe\">\n",
              "  <thead>\n",
              "    <tr style=\"text-align: right;\">\n",
              "      <th></th>\n",
              "      <th>date</th>\n",
              "      <th>sentiment_score</th>\n",
              "    </tr>\n",
              "  </thead>\n",
              "  <tbody>\n",
              "    <tr>\n",
              "      <th>0</th>\n",
              "      <td>2024-02-12</td>\n",
              "      <td>1.0</td>\n",
              "    </tr>\n",
              "    <tr>\n",
              "      <th>1</th>\n",
              "      <td>2024-02-12</td>\n",
              "      <td>1.0</td>\n",
              "    </tr>\n",
              "    <tr>\n",
              "      <th>2</th>\n",
              "      <td>2024-02-12</td>\n",
              "      <td>1.0</td>\n",
              "    </tr>\n",
              "    <tr>\n",
              "      <th>3</th>\n",
              "      <td>2024-02-12</td>\n",
              "      <td>1.0</td>\n",
              "    </tr>\n",
              "    <tr>\n",
              "      <th>4</th>\n",
              "      <td>2024-02-12</td>\n",
              "      <td>1.0</td>\n",
              "    </tr>\n",
              "  </tbody>\n",
              "</table>\n",
              "</div>\n",
              "    <div class=\"colab-df-buttons\">\n",
              "\n",
              "  <div class=\"colab-df-container\">\n",
              "    <button class=\"colab-df-convert\" onclick=\"convertToInteractive('df-9ea91ae4-4913-4d88-9012-35108cc7d223')\"\n",
              "            title=\"Convert this dataframe to an interactive table.\"\n",
              "            style=\"display:none;\">\n",
              "\n",
              "  <svg xmlns=\"http://www.w3.org/2000/svg\" height=\"24px\" viewBox=\"0 -960 960 960\">\n",
              "    <path d=\"M120-120v-720h720v720H120Zm60-500h600v-160H180v160Zm220 220h160v-160H400v160Zm0 220h160v-160H400v160ZM180-400h160v-160H180v160Zm440 0h160v-160H620v160ZM180-180h160v-160H180v160Zm440 0h160v-160H620v160Z\"/>\n",
              "  </svg>\n",
              "    </button>\n",
              "\n",
              "  <style>\n",
              "    .colab-df-container {\n",
              "      display:flex;\n",
              "      gap: 12px;\n",
              "    }\n",
              "\n",
              "    .colab-df-convert {\n",
              "      background-color: #E8F0FE;\n",
              "      border: none;\n",
              "      border-radius: 50%;\n",
              "      cursor: pointer;\n",
              "      display: none;\n",
              "      fill: #1967D2;\n",
              "      height: 32px;\n",
              "      padding: 0 0 0 0;\n",
              "      width: 32px;\n",
              "    }\n",
              "\n",
              "    .colab-df-convert:hover {\n",
              "      background-color: #E2EBFA;\n",
              "      box-shadow: 0px 1px 2px rgba(60, 64, 67, 0.3), 0px 1px 3px 1px rgba(60, 64, 67, 0.15);\n",
              "      fill: #174EA6;\n",
              "    }\n",
              "\n",
              "    .colab-df-buttons div {\n",
              "      margin-bottom: 4px;\n",
              "    }\n",
              "\n",
              "    [theme=dark] .colab-df-convert {\n",
              "      background-color: #3B4455;\n",
              "      fill: #D2E3FC;\n",
              "    }\n",
              "\n",
              "    [theme=dark] .colab-df-convert:hover {\n",
              "      background-color: #434B5C;\n",
              "      box-shadow: 0px 1px 3px 1px rgba(0, 0, 0, 0.15);\n",
              "      filter: drop-shadow(0px 1px 2px rgba(0, 0, 0, 0.3));\n",
              "      fill: #FFFFFF;\n",
              "    }\n",
              "  </style>\n",
              "\n",
              "    <script>\n",
              "      const buttonEl =\n",
              "        document.querySelector('#df-9ea91ae4-4913-4d88-9012-35108cc7d223 button.colab-df-convert');\n",
              "      buttonEl.style.display =\n",
              "        google.colab.kernel.accessAllowed ? 'block' : 'none';\n",
              "\n",
              "      async function convertToInteractive(key) {\n",
              "        const element = document.querySelector('#df-9ea91ae4-4913-4d88-9012-35108cc7d223');\n",
              "        const dataTable =\n",
              "          await google.colab.kernel.invokeFunction('convertToInteractive',\n",
              "                                                    [key], {});\n",
              "        if (!dataTable) return;\n",
              "\n",
              "        const docLinkHtml = 'Like what you see? Visit the ' +\n",
              "          '<a target=\"_blank\" href=https://colab.research.google.com/notebooks/data_table.ipynb>data table notebook</a>'\n",
              "          + ' to learn more about interactive tables.';\n",
              "        element.innerHTML = '';\n",
              "        dataTable['output_type'] = 'display_data';\n",
              "        await google.colab.output.renderOutput(dataTable, element);\n",
              "        const docLink = document.createElement('div');\n",
              "        docLink.innerHTML = docLinkHtml;\n",
              "        element.appendChild(docLink);\n",
              "      }\n",
              "    </script>\n",
              "  </div>\n",
              "\n",
              "\n",
              "    <div id=\"df-d9319b7a-18de-40c4-9ced-0c137d3a5302\">\n",
              "      <button class=\"colab-df-quickchart\" onclick=\"quickchart('df-d9319b7a-18de-40c4-9ced-0c137d3a5302')\"\n",
              "                title=\"Suggest charts\"\n",
              "                style=\"display:none;\">\n",
              "\n",
              "<svg xmlns=\"http://www.w3.org/2000/svg\" height=\"24px\"viewBox=\"0 0 24 24\"\n",
              "     width=\"24px\">\n",
              "    <g>\n",
              "        <path d=\"M19 3H5c-1.1 0-2 .9-2 2v14c0 1.1.9 2 2 2h14c1.1 0 2-.9 2-2V5c0-1.1-.9-2-2-2zM9 17H7v-7h2v7zm4 0h-2V7h2v10zm4 0h-2v-4h2v4z\"/>\n",
              "    </g>\n",
              "</svg>\n",
              "      </button>\n",
              "\n",
              "<style>\n",
              "  .colab-df-quickchart {\n",
              "      --bg-color: #E8F0FE;\n",
              "      --fill-color: #1967D2;\n",
              "      --hover-bg-color: #E2EBFA;\n",
              "      --hover-fill-color: #174EA6;\n",
              "      --disabled-fill-color: #AAA;\n",
              "      --disabled-bg-color: #DDD;\n",
              "  }\n",
              "\n",
              "  [theme=dark] .colab-df-quickchart {\n",
              "      --bg-color: #3B4455;\n",
              "      --fill-color: #D2E3FC;\n",
              "      --hover-bg-color: #434B5C;\n",
              "      --hover-fill-color: #FFFFFF;\n",
              "      --disabled-bg-color: #3B4455;\n",
              "      --disabled-fill-color: #666;\n",
              "  }\n",
              "\n",
              "  .colab-df-quickchart {\n",
              "    background-color: var(--bg-color);\n",
              "    border: none;\n",
              "    border-radius: 50%;\n",
              "    cursor: pointer;\n",
              "    display: none;\n",
              "    fill: var(--fill-color);\n",
              "    height: 32px;\n",
              "    padding: 0;\n",
              "    width: 32px;\n",
              "  }\n",
              "\n",
              "  .colab-df-quickchart:hover {\n",
              "    background-color: var(--hover-bg-color);\n",
              "    box-shadow: 0 1px 2px rgba(60, 64, 67, 0.3), 0 1px 3px 1px rgba(60, 64, 67, 0.15);\n",
              "    fill: var(--button-hover-fill-color);\n",
              "  }\n",
              "\n",
              "  .colab-df-quickchart-complete:disabled,\n",
              "  .colab-df-quickchart-complete:disabled:hover {\n",
              "    background-color: var(--disabled-bg-color);\n",
              "    fill: var(--disabled-fill-color);\n",
              "    box-shadow: none;\n",
              "  }\n",
              "\n",
              "  .colab-df-spinner {\n",
              "    border: 2px solid var(--fill-color);\n",
              "    border-color: transparent;\n",
              "    border-bottom-color: var(--fill-color);\n",
              "    animation:\n",
              "      spin 1s steps(1) infinite;\n",
              "  }\n",
              "\n",
              "  @keyframes spin {\n",
              "    0% {\n",
              "      border-color: transparent;\n",
              "      border-bottom-color: var(--fill-color);\n",
              "      border-left-color: var(--fill-color);\n",
              "    }\n",
              "    20% {\n",
              "      border-color: transparent;\n",
              "      border-left-color: var(--fill-color);\n",
              "      border-top-color: var(--fill-color);\n",
              "    }\n",
              "    30% {\n",
              "      border-color: transparent;\n",
              "      border-left-color: var(--fill-color);\n",
              "      border-top-color: var(--fill-color);\n",
              "      border-right-color: var(--fill-color);\n",
              "    }\n",
              "    40% {\n",
              "      border-color: transparent;\n",
              "      border-right-color: var(--fill-color);\n",
              "      border-top-color: var(--fill-color);\n",
              "    }\n",
              "    60% {\n",
              "      border-color: transparent;\n",
              "      border-right-color: var(--fill-color);\n",
              "    }\n",
              "    80% {\n",
              "      border-color: transparent;\n",
              "      border-right-color: var(--fill-color);\n",
              "      border-bottom-color: var(--fill-color);\n",
              "    }\n",
              "    90% {\n",
              "      border-color: transparent;\n",
              "      border-bottom-color: var(--fill-color);\n",
              "    }\n",
              "  }\n",
              "</style>\n",
              "\n",
              "      <script>\n",
              "        async function quickchart(key) {\n",
              "          const quickchartButtonEl =\n",
              "            document.querySelector('#' + key + ' button');\n",
              "          quickchartButtonEl.disabled = true;  // To prevent multiple clicks.\n",
              "          quickchartButtonEl.classList.add('colab-df-spinner');\n",
              "          try {\n",
              "            const charts = await google.colab.kernel.invokeFunction(\n",
              "                'suggestCharts', [key], {});\n",
              "          } catch (error) {\n",
              "            console.error('Error during call to suggestCharts:', error);\n",
              "          }\n",
              "          quickchartButtonEl.classList.remove('colab-df-spinner');\n",
              "          quickchartButtonEl.classList.add('colab-df-quickchart-complete');\n",
              "        }\n",
              "        (() => {\n",
              "          let quickchartButtonEl =\n",
              "            document.querySelector('#df-d9319b7a-18de-40c4-9ced-0c137d3a5302 button');\n",
              "          quickchartButtonEl.style.display =\n",
              "            google.colab.kernel.accessAllowed ? 'block' : 'none';\n",
              "        })();\n",
              "      </script>\n",
              "    </div>\n",
              "\n",
              "    </div>\n",
              "  </div>\n"
            ],
            "application/vnd.google.colaboratory.intrinsic+json": {
              "type": "dataframe",
              "summary": "{\n  \"name\": \"display(sentiment_df[['date','sentiment_score']]\",\n  \"rows\": 5,\n  \"fields\": [\n    {\n      \"column\": \"date\",\n      \"properties\": {\n        \"dtype\": \"date\",\n        \"min\": \"2024-02-12\",\n        \"max\": \"2024-02-12\",\n        \"num_unique_values\": 1,\n        \"samples\": [\n          \"2024-02-12\"\n        ],\n        \"semantic_type\": \"\",\n        \"description\": \"\"\n      }\n    },\n    {\n      \"column\": \"sentiment_score\",\n      \"properties\": {\n        \"dtype\": \"number\",\n        \"std\": 0.0,\n        \"min\": 1.0,\n        \"max\": 1.0,\n        \"num_unique_values\": 1,\n        \"samples\": [\n          1.0\n        ],\n        \"semantic_type\": \"\",\n        \"description\": \"\"\n      }\n    }\n  ]\n}"
            }
          },
          "metadata": {}
        }
      ]
    },
    {
      "cell_type": "markdown",
      "source": [
        "### Clean trades: parse time, numeric conversion"
      ],
      "metadata": {
        "id": "T2po3peU3uMP"
      }
    },
    {
      "cell_type": "code",
      "source": [
        "trades_df[trade_time_col] = pd.to_datetime(trades_df[trade_time_col], errors='coerce')\n",
        "trades_df = trades_df.dropna(subset=[trade_time_col])\n",
        "trades_df['datetime'] = pd.to_datetime(trades_df[trade_time_col])\n",
        "trades_df['date'] = trades_df['datetime'].dt.date\n",
        "trades_df['closedpnl'] = pd.to_numeric(trades_df['closedpnl'], errors='coerce') # Use the new column name\n",
        "\n",
        "\n",
        "if trade_size_col:\n",
        "    trades_df['size'] = pd.to_numeric(trades_df['size'], errors='coerce').fillna(0) # Use the new column name\n",
        "else:\n",
        "    trades_df['size'] = 0\n",
        "    trade_size_col = 'size'\n",
        "\n",
        "\n",
        "if trade_leverage_col:\n",
        "    trades_df['leverage'] = pd.to_numeric(trades_df['leverage'], errors='coerce') # Use the new column name\n",
        "else:\n",
        "    trades_df['leverage'] = np.nan\n",
        "    trade_leverage_col = 'leverage'\n",
        "\n",
        "\n",
        "# rename for consistency - this rename already happened\n",
        "# rename_map = {trade_pnl_col: 'closedpnl', trade_size_col: 'size', trade_leverage_col: 'leverage'}\n",
        "# if trade_account_col:\n",
        "#     rename_map[trade_account_col] = 'account'\n",
        "# trades_df = trades_df.rename(columns=rename_map)\n",
        "\n",
        "\n",
        "print('\\nTrades cleaned sample:')\n",
        "display_cols = ['datetime','closedpnl','size','leverage']\n",
        "if 'account' in trades_df.columns:\n",
        "    display_cols.insert(1, 'account')\n",
        "display(trades_df[display_cols].head())"
      ],
      "metadata": {
        "colab": {
          "base_uri": "https://localhost:8080/",
          "height": 241
        },
        "id": "C_dpcc2x3qhI",
        "outputId": "3340c066-9d88-4c0e-a1c4-8aa76ae38d26"
      },
      "execution_count": 32,
      "outputs": [
        {
          "output_type": "stream",
          "name": "stdout",
          "text": [
            "\n",
            "Trades cleaned sample:\n"
          ]
        },
        {
          "output_type": "display_data",
          "data": {
            "text/plain": [
              "                       datetime  closedpnl  size  leverage\n",
              "0 1970-01-01 00:00:01.517463000         30     0       NaN\n",
              "1 1970-01-01 00:00:01.517549400         15     0       NaN\n",
              "2 1970-01-01 00:00:01.517635800         40     0       NaN\n",
              "3 1970-01-01 00:00:01.517722200         24     0       NaN\n",
              "4 1970-01-01 00:00:01.517808600         11     0       NaN"
            ],
            "text/html": [
              "\n",
              "  <div id=\"df-28f32c60-fb75-4189-b6bc-fa1dbbee0c38\" class=\"colab-df-container\">\n",
              "    <div>\n",
              "<style scoped>\n",
              "    .dataframe tbody tr th:only-of-type {\n",
              "        vertical-align: middle;\n",
              "    }\n",
              "\n",
              "    .dataframe tbody tr th {\n",
              "        vertical-align: top;\n",
              "    }\n",
              "\n",
              "    .dataframe thead th {\n",
              "        text-align: right;\n",
              "    }\n",
              "</style>\n",
              "<table border=\"1\" class=\"dataframe\">\n",
              "  <thead>\n",
              "    <tr style=\"text-align: right;\">\n",
              "      <th></th>\n",
              "      <th>datetime</th>\n",
              "      <th>closedpnl</th>\n",
              "      <th>size</th>\n",
              "      <th>leverage</th>\n",
              "    </tr>\n",
              "  </thead>\n",
              "  <tbody>\n",
              "    <tr>\n",
              "      <th>0</th>\n",
              "      <td>1970-01-01 00:00:01.517463000</td>\n",
              "      <td>30</td>\n",
              "      <td>0</td>\n",
              "      <td>NaN</td>\n",
              "    </tr>\n",
              "    <tr>\n",
              "      <th>1</th>\n",
              "      <td>1970-01-01 00:00:01.517549400</td>\n",
              "      <td>15</td>\n",
              "      <td>0</td>\n",
              "      <td>NaN</td>\n",
              "    </tr>\n",
              "    <tr>\n",
              "      <th>2</th>\n",
              "      <td>1970-01-01 00:00:01.517635800</td>\n",
              "      <td>40</td>\n",
              "      <td>0</td>\n",
              "      <td>NaN</td>\n",
              "    </tr>\n",
              "    <tr>\n",
              "      <th>3</th>\n",
              "      <td>1970-01-01 00:00:01.517722200</td>\n",
              "      <td>24</td>\n",
              "      <td>0</td>\n",
              "      <td>NaN</td>\n",
              "    </tr>\n",
              "    <tr>\n",
              "      <th>4</th>\n",
              "      <td>1970-01-01 00:00:01.517808600</td>\n",
              "      <td>11</td>\n",
              "      <td>0</td>\n",
              "      <td>NaN</td>\n",
              "    </tr>\n",
              "  </tbody>\n",
              "</table>\n",
              "</div>\n",
              "    <div class=\"colab-df-buttons\">\n",
              "\n",
              "  <div class=\"colab-df-container\">\n",
              "    <button class=\"colab-df-convert\" onclick=\"convertToInteractive('df-28f32c60-fb75-4189-b6bc-fa1dbbee0c38')\"\n",
              "            title=\"Convert this dataframe to an interactive table.\"\n",
              "            style=\"display:none;\">\n",
              "\n",
              "  <svg xmlns=\"http://www.w3.org/2000/svg\" height=\"24px\" viewBox=\"0 -960 960 960\">\n",
              "    <path d=\"M120-120v-720h720v720H120Zm60-500h600v-160H180v160Zm220 220h160v-160H400v160Zm0 220h160v-160H400v160ZM180-400h160v-160H180v160Zm440 0h160v-160H620v160ZM180-180h160v-160H180v160Zm440 0h160v-160H620v160Z\"/>\n",
              "  </svg>\n",
              "    </button>\n",
              "\n",
              "  <style>\n",
              "    .colab-df-container {\n",
              "      display:flex;\n",
              "      gap: 12px;\n",
              "    }\n",
              "\n",
              "    .colab-df-convert {\n",
              "      background-color: #E8F0FE;\n",
              "      border: none;\n",
              "      border-radius: 50%;\n",
              "      cursor: pointer;\n",
              "      display: none;\n",
              "      fill: #1967D2;\n",
              "      height: 32px;\n",
              "      padding: 0 0 0 0;\n",
              "      width: 32px;\n",
              "    }\n",
              "\n",
              "    .colab-df-convert:hover {\n",
              "      background-color: #E2EBFA;\n",
              "      box-shadow: 0px 1px 2px rgba(60, 64, 67, 0.3), 0px 1px 3px 1px rgba(60, 64, 67, 0.15);\n",
              "      fill: #174EA6;\n",
              "    }\n",
              "\n",
              "    .colab-df-buttons div {\n",
              "      margin-bottom: 4px;\n",
              "    }\n",
              "\n",
              "    [theme=dark] .colab-df-convert {\n",
              "      background-color: #3B4455;\n",
              "      fill: #D2E3FC;\n",
              "    }\n",
              "\n",
              "    [theme=dark] .colab-df-convert:hover {\n",
              "      background-color: #434B5C;\n",
              "      box-shadow: 0px 1px 3px 1px rgba(0, 0, 0, 0.15);\n",
              "      filter: drop-shadow(0px 1px 2px rgba(0, 0, 0, 0.3));\n",
              "      fill: #FFFFFF;\n",
              "    }\n",
              "  </style>\n",
              "\n",
              "    <script>\n",
              "      const buttonEl =\n",
              "        document.querySelector('#df-28f32c60-fb75-4189-b6bc-fa1dbbee0c38 button.colab-df-convert');\n",
              "      buttonEl.style.display =\n",
              "        google.colab.kernel.accessAllowed ? 'block' : 'none';\n",
              "\n",
              "      async function convertToInteractive(key) {\n",
              "        const element = document.querySelector('#df-28f32c60-fb75-4189-b6bc-fa1dbbee0c38');\n",
              "        const dataTable =\n",
              "          await google.colab.kernel.invokeFunction('convertToInteractive',\n",
              "                                                    [key], {});\n",
              "        if (!dataTable) return;\n",
              "\n",
              "        const docLinkHtml = 'Like what you see? Visit the ' +\n",
              "          '<a target=\"_blank\" href=https://colab.research.google.com/notebooks/data_table.ipynb>data table notebook</a>'\n",
              "          + ' to learn more about interactive tables.';\n",
              "        element.innerHTML = '';\n",
              "        dataTable['output_type'] = 'display_data';\n",
              "        await google.colab.output.renderOutput(dataTable, element);\n",
              "        const docLink = document.createElement('div');\n",
              "        docLink.innerHTML = docLinkHtml;\n",
              "        element.appendChild(docLink);\n",
              "      }\n",
              "    </script>\n",
              "  </div>\n",
              "\n",
              "\n",
              "    <div id=\"df-89a202a3-88ad-443b-998f-99f9aa2f87fa\">\n",
              "      <button class=\"colab-df-quickchart\" onclick=\"quickchart('df-89a202a3-88ad-443b-998f-99f9aa2f87fa')\"\n",
              "                title=\"Suggest charts\"\n",
              "                style=\"display:none;\">\n",
              "\n",
              "<svg xmlns=\"http://www.w3.org/2000/svg\" height=\"24px\"viewBox=\"0 0 24 24\"\n",
              "     width=\"24px\">\n",
              "    <g>\n",
              "        <path d=\"M19 3H5c-1.1 0-2 .9-2 2v14c0 1.1.9 2 2 2h14c1.1 0 2-.9 2-2V5c0-1.1-.9-2-2-2zM9 17H7v-7h2v7zm4 0h-2V7h2v10zm4 0h-2v-4h2v4z\"/>\n",
              "    </g>\n",
              "</svg>\n",
              "      </button>\n",
              "\n",
              "<style>\n",
              "  .colab-df-quickchart {\n",
              "      --bg-color: #E8F0FE;\n",
              "      --fill-color: #1967D2;\n",
              "      --hover-bg-color: #E2EBFA;\n",
              "      --hover-fill-color: #174EA6;\n",
              "      --disabled-fill-color: #AAA;\n",
              "      --disabled-bg-color: #DDD;\n",
              "  }\n",
              "\n",
              "  [theme=dark] .colab-df-quickchart {\n",
              "      --bg-color: #3B4455;\n",
              "      --fill-color: #D2E3FC;\n",
              "      --hover-bg-color: #434B5C;\n",
              "      --hover-fill-color: #FFFFFF;\n",
              "      --disabled-bg-color: #3B4455;\n",
              "      --disabled-fill-color: #666;\n",
              "  }\n",
              "\n",
              "  .colab-df-quickchart {\n",
              "    background-color: var(--bg-color);\n",
              "    border: none;\n",
              "    border-radius: 50%;\n",
              "    cursor: pointer;\n",
              "    display: none;\n",
              "    fill: var(--fill-color);\n",
              "    height: 32px;\n",
              "    padding: 0;\n",
              "    width: 32px;\n",
              "  }\n",
              "\n",
              "  .colab-df-quickchart:hover {\n",
              "    background-color: var(--hover-bg-color);\n",
              "    box-shadow: 0 1px 2px rgba(60, 64, 67, 0.3), 0 1px 3px 1px rgba(60, 64, 67, 0.15);\n",
              "    fill: var(--button-hover-fill-color);\n",
              "  }\n",
              "\n",
              "  .colab-df-quickchart-complete:disabled,\n",
              "  .colab-df-quickchart-complete:disabled:hover {\n",
              "    background-color: var(--disabled-bg-color);\n",
              "    fill: var(--disabled-fill-color);\n",
              "    box-shadow: none;\n",
              "  }\n",
              "\n",
              "  .colab-df-spinner {\n",
              "    border: 2px solid var(--fill-color);\n",
              "    border-color: transparent;\n",
              "    border-bottom-color: var(--fill-color);\n",
              "    animation:\n",
              "      spin 1s steps(1) infinite;\n",
              "  }\n",
              "\n",
              "  @keyframes spin {\n",
              "    0% {\n",
              "      border-color: transparent;\n",
              "      border-bottom-color: var(--fill-color);\n",
              "      border-left-color: var(--fill-color);\n",
              "    }\n",
              "    20% {\n",
              "      border-color: transparent;\n",
              "      border-left-color: var(--fill-color);\n",
              "      border-top-color: var(--fill-color);\n",
              "    }\n",
              "    30% {\n",
              "      border-color: transparent;\n",
              "      border-left-color: var(--fill-color);\n",
              "      border-top-color: var(--fill-color);\n",
              "      border-right-color: var(--fill-color);\n",
              "    }\n",
              "    40% {\n",
              "      border-color: transparent;\n",
              "      border-right-color: var(--fill-color);\n",
              "      border-top-color: var(--fill-color);\n",
              "    }\n",
              "    60% {\n",
              "      border-color: transparent;\n",
              "      border-right-color: var(--fill-color);\n",
              "    }\n",
              "    80% {\n",
              "      border-color: transparent;\n",
              "      border-right-color: var(--fill-color);\n",
              "      border-bottom-color: var(--fill-color);\n",
              "    }\n",
              "    90% {\n",
              "      border-color: transparent;\n",
              "      border-bottom-color: var(--fill-color);\n",
              "    }\n",
              "  }\n",
              "</style>\n",
              "\n",
              "      <script>\n",
              "        async function quickchart(key) {\n",
              "          const quickchartButtonEl =\n",
              "            document.querySelector('#' + key + ' button');\n",
              "          quickchartButtonEl.disabled = true;  // To prevent multiple clicks.\n",
              "          quickchartButtonEl.classList.add('colab-df-spinner');\n",
              "          try {\n",
              "            const charts = await google.colab.kernel.invokeFunction(\n",
              "                'suggestCharts', [key], {});\n",
              "          } catch (error) {\n",
              "            console.error('Error during call to suggestCharts:', error);\n",
              "          }\n",
              "          quickchartButtonEl.classList.remove('colab-df-spinner');\n",
              "          quickchartButtonEl.classList.add('colab-df-quickchart-complete');\n",
              "        }\n",
              "        (() => {\n",
              "          let quickchartButtonEl =\n",
              "            document.querySelector('#df-89a202a3-88ad-443b-998f-99f9aa2f87fa button');\n",
              "          quickchartButtonEl.style.display =\n",
              "            google.colab.kernel.accessAllowed ? 'block' : 'none';\n",
              "        })();\n",
              "      </script>\n",
              "    </div>\n",
              "\n",
              "    </div>\n",
              "  </div>\n"
            ],
            "application/vnd.google.colaboratory.intrinsic+json": {
              "type": "dataframe",
              "summary": "{\n  \"name\": \"display(trades_df[display_cols]\",\n  \"rows\": 5,\n  \"fields\": [\n    {\n      \"column\": \"datetime\",\n      \"properties\": {\n        \"dtype\": \"date\",\n        \"min\": \"1970-01-01 00:00:01.517463\",\n        \"max\": \"1970-01-01 00:00:01.517808600\",\n        \"num_unique_values\": 5,\n        \"samples\": [\n          \"1970-01-01 00:00:01.517549400\",\n          \"1970-01-01 00:00:01.517808600\",\n          \"1970-01-01 00:00:01.517635800\"\n        ],\n        \"semantic_type\": \"\",\n        \"description\": \"\"\n      }\n    },\n    {\n      \"column\": \"closedpnl\",\n      \"properties\": {\n        \"dtype\": \"number\",\n        \"std\": 11,\n        \"min\": 11,\n        \"max\": 40,\n        \"num_unique_values\": 5,\n        \"samples\": [\n          15,\n          11,\n          40\n        ],\n        \"semantic_type\": \"\",\n        \"description\": \"\"\n      }\n    },\n    {\n      \"column\": \"size\",\n      \"properties\": {\n        \"dtype\": \"number\",\n        \"std\": 0,\n        \"min\": 0,\n        \"max\": 0,\n        \"num_unique_values\": 1,\n        \"samples\": [\n          0\n        ],\n        \"semantic_type\": \"\",\n        \"description\": \"\"\n      }\n    },\n    {\n      \"column\": \"leverage\",\n      \"properties\": {\n        \"dtype\": \"number\",\n        \"std\": null,\n        \"min\": null,\n        \"max\": null,\n        \"num_unique_values\": 0,\n        \"samples\": [],\n        \"semantic_type\": \"\",\n        \"description\": \"\"\n      }\n    }\n  ]\n}"
            }
          },
          "metadata": {}
        }
      ]
    },
    {
      "cell_type": "markdown",
      "source": [
        "### Basic EDA visuals: missing data, distributions, correlation heatmap"
      ],
      "metadata": {
        "id": "_0X3IYV939Su"
      }
    },
    {
      "cell_type": "code",
      "source": [
        "print('\\nMissing values (sentiment):')\n",
        "print(sentiment_df.isnull().sum())\n",
        "print('\\nMissing values (trades):')\n",
        "print(trades_df.isnull().sum())\n",
        "\n",
        "\n",
        "plt.figure()\n",
        "missing = trades_df.isnull().sum()\n",
        "missing[missing>0].sort_values(ascending=False).plot(kind='bar')\n",
        "plt.title('Missing values in trades')\n",
        "plt.show()\n",
        "\n",
        "\n",
        "plt.figure()\n",
        "trades_df['closedpnl'].dropna().hist(bins=50)\n",
        "plt.title('Distribution of closed PnL')\n",
        "plt.show()\n",
        "\n",
        "\n",
        "# daily aggregation for visualization\n",
        "daily = trades_df.groupby('date').agg(total_pnl=('closedpnl','sum'), avg_leverage=('leverage','mean'), total_volume=('size','sum')).reset_index()\n",
        "daily['date'] = pd.to_datetime(daily['date'])\n",
        "\n",
        "\n",
        "plt.figure()\n",
        "plt.plot(daily['date'], daily['total_pnl'].rolling(7, min_periods=1).mean(), label='Total PnL (7d MA)')\n",
        "plt.legend(); plt.title('Total PnL (7d MA)'); plt.show()\n",
        "\n",
        "\n",
        "# correlation heatmap\n",
        "corr = daily[['total_pnl','avg_leverage','total_volume']].corr()\n",
        "plt.figure()\n",
        "plt.imshow(corr, cmap='coolwarm', interpolation='none')\n",
        "plt.colorbar()\n",
        "plt.xticks(range(len(corr.columns)), corr.columns, rotation=45)\n",
        "plt.yticks(range(len(corr.columns)), corr.columns)\n",
        "plt.title('Correlation heatmap (daily)')\n",
        "plt.show()"
      ],
      "metadata": {
        "colab": {
          "base_uri": "https://localhost:8080/",
          "height": 1000
        },
        "id": "CVkW5whb4HXr",
        "outputId": "4f620ab6-64dd-40a6-fcf4-fba43521a62a"
      },
      "execution_count": 33,
      "outputs": [
        {
          "output_type": "stream",
          "name": "stdout",
          "text": [
            "\n",
            "Missing values (sentiment):\n",
            "account             0\n",
            "coin                0\n",
            "execution_price     0\n",
            "size_tokens         0\n",
            "size_usd            0\n",
            "side                0\n",
            "timestamp_ist       0\n",
            "start_position      0\n",
            "direction           0\n",
            "closed_pnl          0\n",
            "transaction_hash    0\n",
            "order_id            0\n",
            "crossed             0\n",
            "fee                 0\n",
            "trade_id            0\n",
            "timestamp           0\n",
            "sentiment_score     0\n",
            "date                0\n",
            "dtype: int64\n",
            "\n",
            "Missing values (trades):\n",
            "timestamp            0\n",
            "closedpnl            0\n",
            "classification       0\n",
            "date                 0\n",
            "datetime             0\n",
            "size                 0\n",
            "leverage          2644\n",
            "dtype: int64\n"
          ]
        },
        {
          "output_type": "display_data",
          "data": {
            "text/plain": [
              "<Figure size 1200x500 with 1 Axes>"
            ],
            "image/png": "[encoded data removed]"
          },
          "metadata": {}
        },
        {
          "output_type": "display_data",
          "data": {
            "text/plain": [
              "<Figure size 1200x500 with 1 Axes>"
            ],
            "image/png": "[encoded data removed]"
          },
          "metadata": {}
        },
        {
          "output_type": "display_data",
          "data": {
            "text/plain": [
              "<Figure size 1200x500 with 1 Axes>"
            ],
            "image/png": "[encoded data removed]"
          },
          "metadata": {}
        },
        {
          "output_type": "display_data",
          "data": {
            "text/plain": [
              "<Figure size 1200x500 with 2 Axes>"
            ],
            "image/png": "[encoded data removed]"
          },
          "metadata": {}
        }
      ]
    },
    {
      "cell_type": "markdown",
      "source": [
        "### Merge sentiment with daily trades and show merged head/info"
      ],
      "metadata": {
        "id": "TVLUUSk84S20"
      }
    },
    {
      "cell_type": "code",
      "source": [
        "sentiment_daily = sentiment_df.groupby('date').agg(sentiment_score=('sentiment_score','mean')).reset_index()\n",
        "sentiment_daily['date'] = pd.to_datetime(sentiment_daily['date']) # Convert 'date' to datetime\n",
        "merged = pd.merge(daily, sentiment_daily, on='date', how='left')\n",
        "merged['sentiment_score'] = merged['sentiment_score'].fillna(method='ffill').fillna(method='bfill')\n",
        "print('\\nMerged head:')\n",
        "print(merged.head())\n",
        "print('\\nMerged info:')\n",
        "print(merged.info())"
      ],
      "metadata": {
        "colab": {
          "base_uri": "https://localhost:8080/"
        },
        "id": "s9UO3sgQ4Uj7",
        "outputId": "8fdeb0a1-242b-4c2f-c570-ce571c047b7f"
      },
      "execution_count": 35,
      "outputs": [
        {
          "output_type": "stream",
          "name": "stdout",
          "text": [
            "\n",
            "Merged head:\n",
            "        date  total_pnl  avg_leverage  total_volume  sentiment_score\n",
            "0 1970-01-01     124218           NaN             0              NaN\n",
            "\n",
            "Merged info:\n",
            "<class 'pandas.core.frame.DataFrame'>\n",
            "RangeIndex: 1 entries, 0 to 0\n",
            "Data columns (total 5 columns):\n",
            " #   Column           Non-Null Count  Dtype         \n",
            "---  ------           --------------  -----         \n",
            " 0   date             1 non-null      datetime64[ns]\n",
            " 1   total_pnl        1 non-null      int64         \n",
            " 2   avg_leverage     0 non-null      float64       \n",
            " 3   total_volume     1 non-null      int64         \n",
            " 4   sentiment_score  0 non-null      float64       \n",
            "dtypes: datetime64[ns](1), float64(2), int64(2)\n",
            "memory usage: 172.0 bytes\n",
            "None\n"
          ]
        },
        {
          "output_type": "stream",
          "name": "stderr",
          "text": [
            "/tmp/ipython-input-3338004951.py:4: FutureWarning: Series.fillna with 'method' is deprecated and will raise in a future version. Use obj.ffill() or obj.bfill() instead.\n",
            "  merged['sentiment_score'] = merged['sentiment_score'].fillna(method='ffill').fillna(method='bfill')\n"
          ]
        }
      ]
    },
    {
      "cell_type": "markdown",
      "source": [
        "### Feature engineering for ML (lag, rolling vol)"
      ],
      "metadata": {
        "id": "vBWdiM2v4ekG"
      }
    },
    {
      "cell_type": "code",
      "source": [
        "merged = merged.sort_values('date').reset_index(drop=True)\n",
        "merged['sentiment_lag1'] = merged['sentiment_score'].shift(1)\n",
        "merged['pnl_lag1'] = merged['total_pnl'].shift(1)\n",
        "merged['pnl_rolling_std_7'] = merged['total_pnl'].rolling(7, min_periods=1).std()\n",
        "merged['sent_rolling_mean_7'] = merged['sentiment_score'].rolling(7, min_periods=1).mean()\n",
        "merged = merged.fillna(0)\n",
        "print('\\nFeatures sample:')\n",
        "print(merged.head())"
      ],
      "metadata": {
        "colab": {
          "base_uri": "https://localhost:8080/"
        },
        "id": "sbA9DmWu4glR",
        "outputId": "75eb9fd8-275e-453e-d123-dc445c24cc4a"
      },
      "execution_count": 45,
      "outputs": [
        {
          "output_type": "stream",
          "name": "stdout",
          "text": [
            "\n",
            "Features sample:\n",
            "        date  total_pnl  avg_leverage  total_volume  sentiment_score  \\\n",
            "0 1970-01-01     124218           0.0             0              0.0   \n",
            "\n",
            "   sentiment_lag1  pnl_lag1  pnl_rolling_std_7  sent_rolling_mean_7  \\\n",
            "0             0.0       0.0                0.0                  0.0   \n",
            "\n",
            "   target_next_profitable  \n",
            "0                       0  \n"
          ]
        }
      ]
    },
    {
      "cell_type": "markdown",
      "source": [
        "### Prepare X, Y for classification (predict next day profitable or not)"
      ],
      "metadata": {
        "id": "24tEzsby4i3N"
      }
    },
    {
      "cell_type": "code",
      "source": [
        "merged['target_next_profitable'] = (merged['total_pnl'].shift(-1) > 0).astype(int)\n",
        "model_df = merged.dropna(subset=['target_next_profitable']).copy()\n",
        "feature_cols = ['sentiment_score','sentiment_lag1','pnl_lag1','pnl_rolling_std_7','sent_rolling_mean_7','avg_leverage','total_volume']\n",
        "feature_cols = [c for c in feature_cols if c in model_df.columns]\n",
        "X = model_df[feature_cols]\n",
        "y = model_df['target_next_profitable']\n",
        "print('\\nX sample:')\n",
        "print(X.head())\n",
        "print('\\ny sample distribution:')\n",
        "print(y.value_counts())"
      ],
      "metadata": {
        "colab": {
          "base_uri": "https://localhost:8080/"
        },
        "id": "A-tTTqB04qw-",
        "outputId": "083484e6-d165-4e57-bc0f-af6992171a6b"
      },
      "execution_count": 46,
      "outputs": [
        {
          "output_type": "stream",
          "name": "stdout",
          "text": [
            "\n",
            "X sample:\n",
            "   sentiment_score  sentiment_lag1  pnl_lag1  pnl_rolling_std_7  \\\n",
            "0              0.0             0.0       0.0                0.0   \n",
            "\n",
            "   sent_rolling_mean_7  avg_leverage  total_volume  \n",
            "0                  0.0           0.0             0  \n",
            "\n",
            "y sample distribution:\n",
            "target_next_profitable\n",
            "0    1\n",
            "Name: count, dtype: int64\n"
          ]
        }
      ]
    },
    {
      "cell_type": "markdown",
      "source": [
        "### Boxplot: Trader PnL vs Market Sentiment"
      ],
      "metadata": {
        "id": "nPMmaxgZ8MTb"
      }
    },
    {
      "cell_type": "code",
      "source": [
        "import seaborn as sns\n",
        "plt.figure(figsize=(8,5))\n",
        "# Use 'sentiment_score' which is available in 'merged' dataframe\n",
        "sns.boxplot(x=merged['sentiment_score'], y=merged['total_pnl'], palette='coolwarm')\n",
        "plt.title(\"Trader Profitability vs Market Sentiment Score\")\n",
        "plt.xlabel(\"Market Sentiment Score\")\n",
        "plt.ylabel(\"Total PnL\")\n",
        "plt.show()"
      ],
      "metadata": {
        "colab": {
          "base_uri": "https://localhost:8080/",
          "height": 574
        },
        "id": "HpMNyisK8Dwd",
        "outputId": "ab8ddbeb-9d47-4e94-a264-2c67f010e89f"
      },
      "execution_count": 58,
      "outputs": [
        {
          "output_type": "stream",
          "name": "stderr",
          "text": [
            "/tmp/ipython-input-2388608046.py:4: FutureWarning: \n",
            "\n",
            "Passing `palette` without assigning `hue` is deprecated and will be removed in v0.14.0. Assign the `x` variable to `hue` and set `legend=False` for the same effect.\n",
            "\n",
            "  sns.boxplot(x=merged['sentiment_score'], y=merged['total_pnl'], palette='coolwarm')\n"
          ]
        },
        {
          "output_type": "display_data",
          "data": {
            "text/plain": [
              "<Figure size 800x500 with 1 Axes>"
            ],
            "image/png": "[encoded data removed]"
          },
          "metadata": {}
        }
      ]
    },
    {
      "cell_type": "markdown",
      "source": [
        "### Lineplot: Average Leverage Trend by Sentiment"
      ],
      "metadata": {
        "id": "5VVeZZRh8QAU"
      }
    },
    {
      "cell_type": "code",
      "source": [
        "import seaborn as sns # Add import for seaborn\n",
        "if 'leverage' in trades_df.columns:\n",
        "    # Use classification from trades_df, not merged\n",
        "    avg_lev = trades_df.groupby([trades_df[trade_time_col].dt.date, trades_df['classification']])['leverage'].mean().reset_index()\n",
        "    plt.figure(figsize=(10,5))\n",
        "    sns.lineplot(data=avg_lev, x=trade_time_col, y='leverage', hue='classification', marker='o')\n",
        "    plt.title(\"Leverage Trend During Fear vs Greed Days\")\n",
        "    plt.xlabel(\"Date\")\n",
        "    plt.ylabel(\"Average Leverage\")\n",
        "    plt.xticks(rotation=45)\n",
        "    plt.show()"
      ],
      "metadata": {
        "colab": {
          "base_uri": "https://localhost:8080/",
          "height": 527
        },
        "id": "sbNI61Vh8TW-",
        "outputId": "38e9f8a5-8842-45f9-ac1b-fb30ef83c9aa"
      },
      "execution_count": 60,
      "outputs": [
        {
          "output_type": "display_data",
          "data": {
            "text/plain": [
              "<Figure size 1000x500 with 1 Axes>"
            ],
            "image/png": "[encoded data removed]"
          },
          "metadata": {}
        }
      ]
    },
    {
      "cell_type": "markdown",
      "source": [
        "### Scatter: Trade Size vs Profitability"
      ],
      "metadata": {
        "id": "2ACx1jPM8ktb"
      }
    },
    {
      "cell_type": "code",
      "source": [
        "import seaborn as sns\n",
        "if trade_size_col:\n",
        "    plt.figure(figsize=(8,5))\n",
        "    sns.scatterplot(data=trades_df, x=trade_size_col, y='closedpnl', alpha=0.6) # Removed hue='side'\n",
        "    plt.title(\"Trade Size vs Profitability\")\n",
        "    plt.xlabel(\"Trade Size\")\n",
        "    plt.ylabel(\"Closed PnL\")\n",
        "    # Removed legend as hue is removed\n",
        "    plt.show()"
      ],
      "metadata": {
        "colab": {
          "base_uri": "https://localhost:8080/",
          "height": 487
        },
        "id": "i2qzStit8bHO",
        "outputId": "12ddf022-eda7-420d-b826-2a6f4de01d41"
      },
      "execution_count": 64,
      "outputs": [
        {
          "output_type": "display_data",
          "data": {
            "text/plain": [
              "<Figure size 800x500 with 1 Axes>"
            ],
            "image/png": "[encoded data removed]"
          },
          "metadata": {}
        }
      ]
    },
    {
      "cell_type": "markdown",
      "source": [
        "### Save key outputs"
      ],
      "metadata": {
        "id": "JpwRE4XH6wvJ"
      }
    },
    {
      "cell_type": "code",
      "source": [
        "merged.to_csv('daily_merged.csv', index=False)\n",
        "if 'account' in trades_df.columns:\n",
        "    account_metrics = trades_df.groupby('account').agg(total_pnl=('closedpnl','sum'), num_trades=('closedpnl','count')).reset_index()\n",
        "    account_metrics.to_csv('account_metrics.csv', index=False)\n",
        "    print('\\nSaved daily_merged.csv and account_metrics.csv')\n",
        "else:\n",
        "    print('\\nSaved daily_merged.csv. Skipping account_metrics.csv as \"account\" column not found.')\n",
        "\n",
        "print('\\nSimple takeaways:')\n",
        "print('- Check feature importances to know which signals matter most for next-day profitability.')\n",
        "print('- Use rolling volatility and lagged sentiment as simple features.')\n",
        "print('- This baseline model (RandomForest) is a good start; next steps: hyperparameter tuning, CV, and backtesting.')"
      ],
      "metadata": {
        "colab": {
          "base_uri": "https://localhost:8080/"
        },
        "id": "pzjkioYA5DSJ",
        "outputId": "f941ccb1-4bf1-407b-cd12-26f82f2d836c"
      },
      "execution_count": 51,
      "outputs": [
        {
          "output_type": "stream",
          "name": "stdout",
          "text": [
            "\n",
            "Saved daily_merged.csv. Skipping account_metrics.csv as \"account\" column not found.\n",
            "\n",
            "Simple takeaways:\n",
            "- Check feature importances to know which signals matter most for next-day profitability.\n",
            "- Use rolling volatility and lagged sentiment as simple features.\n",
            "- This baseline model (RandomForest) is a good start; next steps: hyperparameter tuning, CV, and backtesting.\n"
          ]
        }
      ]
    },
    {
      "cell_type": "markdown",
      "source": [
        "### Simple conclusions printed (student-style)"
      ],
      "metadata": {
        "id": "ZaKXfnNs5Gnt"
      }
    },
    {
      "cell_type": "code",
      "source": [
        "print('\\nSimple takeaways:')\n",
        "print('- Check feature importances to know which signals matter most for next-day profitability.')\n",
        "print('- Use rolling volatility and lagged sentiment as simple features.')\n",
        "print('- This baseline model (RandomForest) is a good start; next steps: hyperparameter tuning, CV, and backtesting.')"
      ],
      "metadata": {
        "colab": {
          "base_uri": "https://localhost:8080/"
        },
        "id": "jTbI0ThI5HkJ",
        "outputId": "c19344ca-35f0-4e38-919a-61b97f2faf6e"
      },
      "execution_count": 52,
      "outputs": [
        {
          "output_type": "stream",
          "name": "stdout",
          "text": [
            "\n",
            "Simple takeaways:\n",
            "- Check feature importances to know which signals matter most for next-day profitability.\n",
            "- Use rolling volatility and lagged sentiment as simple features.\n",
            "- This baseline model (RandomForest) is a good start; next steps: hyperparameter tuning, CV, and backtesting.\n"
          ]
        }
      ]
    }
  ]
}